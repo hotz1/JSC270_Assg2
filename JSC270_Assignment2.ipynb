{
  "nbformat": 4,
  "nbformat_minor": 0,
  "metadata": {
    "colab": {
      "name": "JSC270_Assignment2.ipynb",
      "provenance": [],
      "collapsed_sections": [],
      "toc_visible": true,
      "include_colab_link": true
    },
    "kernelspec": {
      "name": "python3",
      "display_name": "Python 3"
    }
  },
  "cells": [
    {
      "cell_type": "markdown",
      "metadata": {
        "id": "view-in-github",
        "colab_type": "text"
      },
      "source": [
        "<a href=\"https://colab.research.google.com/github/hotz1/JSC270_Assg2/blob/main/JSC270_Assignment2.ipynb\" target=\"_parent\"><img src=\"https://colab.research.google.com/assets/colab-badge.svg\" alt=\"Open In Colab\"/></a>"
      ]
    },
    {
      "cell_type": "markdown",
      "metadata": {
        "id": "Dx3JcBg8VZ-a"
      },
      "source": [
        "###Libraries you'll likely need"
      ]
    },
    {
      "cell_type": "code",
      "metadata": {
        "id": "3I79uCwE3Sq8"
      },
      "source": [
        "import pandas as pd\r\n",
        "import numpy as np\r\n",
        "import matplotlib.pyplot as plt\r\n",
        "import seaborn as sns\r\n",
        "from scipy import stats\r\n",
        "import statsmodels.api as sm\r\n",
        "import statsmodels.formula.api as smf"
      ],
      "execution_count": 49,
      "outputs": []
    },
    {
      "cell_type": "markdown",
      "metadata": {
        "id": "9U0oB7HfVZ3g"
      },
      "source": [
        ""
      ]
    },
    {
      "cell_type": "markdown",
      "metadata": {
        "id": "X0oR7u9m-wO6"
      },
      "source": [
        "###Importing data"
      ]
    },
    {
      "cell_type": "code",
      "metadata": {
        "id": "f3jscp2H3Yqm",
        "colab": {
          "base_uri": "https://localhost:8080/",
          "height": 272
        },
        "outputId": "8cb18b9e-0510-4341-e573-de9685e06bad"
      },
      "source": [
        "income94 = pd.read_csv('https://archive.ics.uci.edu/ml/machine-learning-databases/adult/adult.data', header=None)\r\n",
        "income94.columns = ['age','workclass', 'fnlwgt','education','education_num','marital_status','occupation',\r\n",
        "                    'relationship','race','sex','capital_gain','capital_loss','hours_per_week','native_country','gross_income_group']\r\n",
        "income94.head()\r\n",
        "#income94.describe()\r\n",
        "#income94.shape"
      ],
      "execution_count": 50,
      "outputs": [
        {
          "output_type": "execute_result",
          "data": {
            "text/html": [
              "<div>\n",
              "<style scoped>\n",
              "    .dataframe tbody tr th:only-of-type {\n",
              "        vertical-align: middle;\n",
              "    }\n",
              "\n",
              "    .dataframe tbody tr th {\n",
              "        vertical-align: top;\n",
              "    }\n",
              "\n",
              "    .dataframe thead th {\n",
              "        text-align: right;\n",
              "    }\n",
              "</style>\n",
              "<table border=\"1\" class=\"dataframe\">\n",
              "  <thead>\n",
              "    <tr style=\"text-align: right;\">\n",
              "      <th></th>\n",
              "      <th>age</th>\n",
              "      <th>workclass</th>\n",
              "      <th>fnlwgt</th>\n",
              "      <th>education</th>\n",
              "      <th>education_num</th>\n",
              "      <th>marital_status</th>\n",
              "      <th>occupation</th>\n",
              "      <th>relationship</th>\n",
              "      <th>race</th>\n",
              "      <th>sex</th>\n",
              "      <th>capital_gain</th>\n",
              "      <th>capital_loss</th>\n",
              "      <th>hours_per_week</th>\n",
              "      <th>native_country</th>\n",
              "      <th>gross_income_group</th>\n",
              "    </tr>\n",
              "  </thead>\n",
              "  <tbody>\n",
              "    <tr>\n",
              "      <th>0</th>\n",
              "      <td>39</td>\n",
              "      <td>State-gov</td>\n",
              "      <td>77516</td>\n",
              "      <td>Bachelors</td>\n",
              "      <td>13</td>\n",
              "      <td>Never-married</td>\n",
              "      <td>Adm-clerical</td>\n",
              "      <td>Not-in-family</td>\n",
              "      <td>White</td>\n",
              "      <td>Male</td>\n",
              "      <td>2174</td>\n",
              "      <td>0</td>\n",
              "      <td>40</td>\n",
              "      <td>United-States</td>\n",
              "      <td>&lt;=50K</td>\n",
              "    </tr>\n",
              "    <tr>\n",
              "      <th>1</th>\n",
              "      <td>50</td>\n",
              "      <td>Self-emp-not-inc</td>\n",
              "      <td>83311</td>\n",
              "      <td>Bachelors</td>\n",
              "      <td>13</td>\n",
              "      <td>Married-civ-spouse</td>\n",
              "      <td>Exec-managerial</td>\n",
              "      <td>Husband</td>\n",
              "      <td>White</td>\n",
              "      <td>Male</td>\n",
              "      <td>0</td>\n",
              "      <td>0</td>\n",
              "      <td>13</td>\n",
              "      <td>United-States</td>\n",
              "      <td>&lt;=50K</td>\n",
              "    </tr>\n",
              "    <tr>\n",
              "      <th>2</th>\n",
              "      <td>38</td>\n",
              "      <td>Private</td>\n",
              "      <td>215646</td>\n",
              "      <td>HS-grad</td>\n",
              "      <td>9</td>\n",
              "      <td>Divorced</td>\n",
              "      <td>Handlers-cleaners</td>\n",
              "      <td>Not-in-family</td>\n",
              "      <td>White</td>\n",
              "      <td>Male</td>\n",
              "      <td>0</td>\n",
              "      <td>0</td>\n",
              "      <td>40</td>\n",
              "      <td>United-States</td>\n",
              "      <td>&lt;=50K</td>\n",
              "    </tr>\n",
              "    <tr>\n",
              "      <th>3</th>\n",
              "      <td>53</td>\n",
              "      <td>Private</td>\n",
              "      <td>234721</td>\n",
              "      <td>11th</td>\n",
              "      <td>7</td>\n",
              "      <td>Married-civ-spouse</td>\n",
              "      <td>Handlers-cleaners</td>\n",
              "      <td>Husband</td>\n",
              "      <td>Black</td>\n",
              "      <td>Male</td>\n",
              "      <td>0</td>\n",
              "      <td>0</td>\n",
              "      <td>40</td>\n",
              "      <td>United-States</td>\n",
              "      <td>&lt;=50K</td>\n",
              "    </tr>\n",
              "    <tr>\n",
              "      <th>4</th>\n",
              "      <td>28</td>\n",
              "      <td>Private</td>\n",
              "      <td>338409</td>\n",
              "      <td>Bachelors</td>\n",
              "      <td>13</td>\n",
              "      <td>Married-civ-spouse</td>\n",
              "      <td>Prof-specialty</td>\n",
              "      <td>Wife</td>\n",
              "      <td>Black</td>\n",
              "      <td>Female</td>\n",
              "      <td>0</td>\n",
              "      <td>0</td>\n",
              "      <td>40</td>\n",
              "      <td>Cuba</td>\n",
              "      <td>&lt;=50K</td>\n",
              "    </tr>\n",
              "  </tbody>\n",
              "</table>\n",
              "</div>"
            ],
            "text/plain": [
              "   age          workclass  ...  native_country gross_income_group\n",
              "0   39          State-gov  ...   United-States              <=50K\n",
              "1   50   Self-emp-not-inc  ...   United-States              <=50K\n",
              "2   38            Private  ...   United-States              <=50K\n",
              "3   53            Private  ...   United-States              <=50K\n",
              "4   28            Private  ...            Cuba              <=50K\n",
              "\n",
              "[5 rows x 15 columns]"
            ]
          },
          "metadata": {
            "tags": []
          },
          "execution_count": 50
        }
      ]
    },
    {
      "cell_type": "markdown",
      "metadata": {
        "id": "4rg8rtxHwDnB"
      },
      "source": [
        "Using the .shape function, we can see that the income94 dataset is 32561x15, i.e. the dataset has 32561 rows and 15 columns. These 32561 rows represent individual people in the census, and each of the 15 columns represents an observation about that person."
      ]
    },
    {
      "cell_type": "markdown",
      "metadata": {
        "id": "CoRjnWX1xgKC"
      },
      "source": [
        "###Exploring the columns of the data"
      ]
    },
    {
      "cell_type": "code",
      "metadata": {
        "colab": {
          "base_uri": "https://localhost:8080/"
        },
        "id": "GQ8HQ8oWxk8M",
        "outputId": "a848095a-12a7-4bc4-9f8e-f270d1df32d3"
      },
      "source": [
        "# This command is used to see the different types of data in the dataframe. We can see that of the 15 columns described above, 6 of them contain \r\n",
        "# numerical values (integer values) and the other 9 contain object values, which generally signify categorical data.\r\n",
        "\r\n",
        "# Looking at the .head() of the data above, we see that there are 6 columns (age, education_num, capital_gain, capital_loss, hours_per_week) which are \r\n",
        "# numerical, and the remaining 9 columns store categorical variables. This lined up with the information shown by this command.\r\n",
        "income94.info()"
      ],
      "execution_count": 51,
      "outputs": [
        {
          "output_type": "stream",
          "text": [
            "<class 'pandas.core.frame.DataFrame'>\n",
            "RangeIndex: 32561 entries, 0 to 32560\n",
            "Data columns (total 15 columns):\n",
            " #   Column              Non-Null Count  Dtype \n",
            "---  ------              --------------  ----- \n",
            " 0   age                 32561 non-null  int64 \n",
            " 1   workclass           32561 non-null  object\n",
            " 2   fnlwgt              32561 non-null  int64 \n",
            " 3   education           32561 non-null  object\n",
            " 4   education_num       32561 non-null  int64 \n",
            " 5   marital_status      32561 non-null  object\n",
            " 6   occupation          32561 non-null  object\n",
            " 7   relationship        32561 non-null  object\n",
            " 8   race                32561 non-null  object\n",
            " 9   sex                 32561 non-null  object\n",
            " 10  capital_gain        32561 non-null  int64 \n",
            " 11  capital_loss        32561 non-null  int64 \n",
            " 12  hours_per_week      32561 non-null  int64 \n",
            " 13  native_country      32561 non-null  object\n",
            " 14  gross_income_group  32561 non-null  object\n",
            "dtypes: int64(6), object(9)\n",
            "memory usage: 3.7+ MB\n"
          ],
          "name": "stdout"
        }
      ]
    },
    {
      "cell_type": "markdown",
      "metadata": {
        "id": "wXUdDQ3y0fP4"
      },
      "source": [
        "### Looking for missing observations\r\n",
        "Now that we have done some initial exploring of the data, we would like to see if there are any missing observations which could potentially cause errors in our analysis."
      ]
    },
    {
      "cell_type": "code",
      "metadata": {
        "colab": {
          "base_uri": "https://localhost:8080/"
        },
        "id": "ruu6sBho0W1D",
        "outputId": "efea96db-3d25-4044-a3d7-645f478e1aad"
      },
      "source": [
        "# The following loop is used to ensure that the columns are as we expected them to be, and that they contain the right information.\r\n",
        "# This loop also tries to present the information in a somewhat readable format by spacing out the different observations.\r\n",
        "\r\n",
        "for col in income94.columns:\r\n",
        "  print(\"Observation Column: \" + col)\r\n",
        "  print(income94[col].value_counts())\r\n",
        "  print('\\n')"
      ],
      "execution_count": 52,
      "outputs": [
        {
          "output_type": "stream",
          "text": [
            "Observation Column: age\n",
            "36    898\n",
            "31    888\n",
            "34    886\n",
            "23    877\n",
            "35    876\n",
            "     ... \n",
            "83      6\n",
            "85      3\n",
            "88      3\n",
            "87      1\n",
            "86      1\n",
            "Name: age, Length: 73, dtype: int64\n",
            "\n",
            "\n",
            "Observation Column: workclass\n",
            " Private             22696\n",
            " Self-emp-not-inc     2541\n",
            " Local-gov            2093\n",
            " ?                    1836\n",
            " State-gov            1298\n",
            " Self-emp-inc         1116\n",
            " Federal-gov           960\n",
            " Without-pay            14\n",
            " Never-worked            7\n",
            "Name: workclass, dtype: int64\n",
            "\n",
            "\n",
            "Observation Column: fnlwgt\n",
            "164190    13\n",
            "203488    13\n",
            "123011    13\n",
            "113364    12\n",
            "121124    12\n",
            "          ..\n",
            "284211     1\n",
            "312881     1\n",
            "177711     1\n",
            "179758     1\n",
            "229376     1\n",
            "Name: fnlwgt, Length: 21648, dtype: int64\n",
            "\n",
            "\n",
            "Observation Column: education\n",
            " HS-grad         10501\n",
            " Some-college     7291\n",
            " Bachelors        5355\n",
            " Masters          1723\n",
            " Assoc-voc        1382\n",
            " 11th             1175\n",
            " Assoc-acdm       1067\n",
            " 10th              933\n",
            " 7th-8th           646\n",
            " Prof-school       576\n",
            " 9th               514\n",
            " 12th              433\n",
            " Doctorate         413\n",
            " 5th-6th           333\n",
            " 1st-4th           168\n",
            " Preschool          51\n",
            "Name: education, dtype: int64\n",
            "\n",
            "\n",
            "Observation Column: education_num\n",
            "9     10501\n",
            "10     7291\n",
            "13     5355\n",
            "14     1723\n",
            "11     1382\n",
            "7      1175\n",
            "12     1067\n",
            "6       933\n",
            "4       646\n",
            "15      576\n",
            "5       514\n",
            "8       433\n",
            "16      413\n",
            "3       333\n",
            "2       168\n",
            "1        51\n",
            "Name: education_num, dtype: int64\n",
            "\n",
            "\n",
            "Observation Column: marital_status\n",
            " Married-civ-spouse       14976\n",
            " Never-married            10683\n",
            " Divorced                  4443\n",
            " Separated                 1025\n",
            " Widowed                    993\n",
            " Married-spouse-absent      418\n",
            " Married-AF-spouse           23\n",
            "Name: marital_status, dtype: int64\n",
            "\n",
            "\n",
            "Observation Column: occupation\n",
            " Prof-specialty       4140\n",
            " Craft-repair         4099\n",
            " Exec-managerial      4066\n",
            " Adm-clerical         3770\n",
            " Sales                3650\n",
            " Other-service        3295\n",
            " Machine-op-inspct    2002\n",
            " ?                    1843\n",
            " Transport-moving     1597\n",
            " Handlers-cleaners    1370\n",
            " Farming-fishing       994\n",
            " Tech-support          928\n",
            " Protective-serv       649\n",
            " Priv-house-serv       149\n",
            " Armed-Forces            9\n",
            "Name: occupation, dtype: int64\n",
            "\n",
            "\n",
            "Observation Column: relationship\n",
            " Husband           13193\n",
            " Not-in-family      8305\n",
            " Own-child          5068\n",
            " Unmarried          3446\n",
            " Wife               1568\n",
            " Other-relative      981\n",
            "Name: relationship, dtype: int64\n",
            "\n",
            "\n",
            "Observation Column: race\n",
            " White                 27816\n",
            " Black                  3124\n",
            " Asian-Pac-Islander     1039\n",
            " Amer-Indian-Eskimo      311\n",
            " Other                   271\n",
            "Name: race, dtype: int64\n",
            "\n",
            "\n",
            "Observation Column: sex\n",
            " Male      21790\n",
            " Female    10771\n",
            "Name: sex, dtype: int64\n",
            "\n",
            "\n",
            "Observation Column: capital_gain\n",
            "0        29849\n",
            "15024      347\n",
            "7688       284\n",
            "7298       246\n",
            "99999      159\n",
            "         ...  \n",
            "4931         1\n",
            "1455         1\n",
            "6097         1\n",
            "22040        1\n",
            "1111         1\n",
            "Name: capital_gain, Length: 119, dtype: int64\n",
            "\n",
            "\n",
            "Observation Column: capital_loss\n",
            "0       31042\n",
            "1902      202\n",
            "1977      168\n",
            "1887      159\n",
            "1848       51\n",
            "        ...  \n",
            "1411        1\n",
            "1539        1\n",
            "2472        1\n",
            "1944        1\n",
            "2201        1\n",
            "Name: capital_loss, Length: 92, dtype: int64\n",
            "\n",
            "\n",
            "Observation Column: hours_per_week\n",
            "40    15217\n",
            "50     2819\n",
            "45     1824\n",
            "60     1475\n",
            "35     1297\n",
            "      ...  \n",
            "92        1\n",
            "94        1\n",
            "87        1\n",
            "74        1\n",
            "82        1\n",
            "Name: hours_per_week, Length: 94, dtype: int64\n",
            "\n",
            "\n",
            "Observation Column: native_country\n",
            " United-States                 29170\n",
            " Mexico                          643\n",
            " ?                               583\n",
            " Philippines                     198\n",
            " Germany                         137\n",
            " Canada                          121\n",
            " Puerto-Rico                     114\n",
            " El-Salvador                     106\n",
            " India                           100\n",
            " Cuba                             95\n",
            " England                          90\n",
            " Jamaica                          81\n",
            " South                            80\n",
            " China                            75\n",
            " Italy                            73\n",
            " Dominican-Republic               70\n",
            " Vietnam                          67\n",
            " Guatemala                        64\n",
            " Japan                            62\n",
            " Poland                           60\n",
            " Columbia                         59\n",
            " Taiwan                           51\n",
            " Haiti                            44\n",
            " Iran                             43\n",
            " Portugal                         37\n",
            " Nicaragua                        34\n",
            " Peru                             31\n",
            " France                           29\n",
            " Greece                           29\n",
            " Ecuador                          28\n",
            " Ireland                          24\n",
            " Hong                             20\n",
            " Trinadad&Tobago                  19\n",
            " Cambodia                         19\n",
            " Laos                             18\n",
            " Thailand                         18\n",
            " Yugoslavia                       16\n",
            " Outlying-US(Guam-USVI-etc)       14\n",
            " Hungary                          13\n",
            " Honduras                         13\n",
            " Scotland                         12\n",
            " Holand-Netherlands                1\n",
            "Name: native_country, dtype: int64\n",
            "\n",
            "\n",
            "Observation Column: gross_income_group\n",
            " <=50K    24720\n",
            " >50K      7841\n",
            "Name: gross_income_group, dtype: int64\n",
            "\n",
            "\n"
          ],
          "name": "stdout"
        }
      ]
    },
    {
      "cell_type": "markdown",
      "metadata": {
        "id": "yW-bYXbJ3uW2"
      },
      "source": [
        "We see that there are some missing observations in some of the columns which store categorical data. These missing observations are denoted with `?` characters in the dataframe.\r\n",
        "\r\n",
        "In particular, there are 1836 missing observations in the `workclass` column, 1843 missing observations in the `occupation` column, and 583 missing observations in the `native_country` column."
      ]
    },
    {
      "cell_type": "markdown",
      "metadata": {
        "id": "rD3QuEcZFhE8"
      },
      "source": [
        "###Distributions of Capital Gains and Losses:\r\n",
        "\r\n",
        "In the following lines of code, we will create histograms which show the capital gains and losses of the people in this census."
      ]
    },
    {
      "cell_type": "code",
      "metadata": {
        "colab": {
          "base_uri": "https://localhost:8080/",
          "height": 312
        },
        "id": "agr7glh89e9m",
        "outputId": "387be4d9-3397-4a20-d538-0bb44aa68a46"
      },
      "source": [
        "# Creates a histogram for the capital gains \r\n",
        "plt.hist(income94['capital_gain'], bins = 25, color=\"black\") # Monetary gains are referred to as being \"in the black\"\r\n",
        "plt.title('Occurrences of Capital Gains in the Data')\r\n",
        "plt.xlabel('Capital Gains')\r\n",
        "plt.ylabel('Occurrences')\r\n",
        "print('') # This avoids the 'Occurrences' label from also being displayed as a text object, since I found that annoying."
      ],
      "execution_count": 53,
      "outputs": [
        {
          "output_type": "stream",
          "text": [
            "\n"
          ],
          "name": "stdout"
        },
        {
          "output_type": "display_data",
          "data": {
            "image/png": "[encoded data removed]",
            "text/plain": [
              "<Figure size 432x288 with 1 Axes>"
            ]
          },
          "metadata": {
            "tags": [],
            "needs_background": "light"
          }
        }
      ]
    },
    {
      "cell_type": "code",
      "metadata": {
        "colab": {
          "base_uri": "https://localhost:8080/",
          "height": 312
        },
        "id": "uapvilXQGRjI",
        "outputId": "6a57760b-57bc-4f07-cc06-4fabbc6eeccc"
      },
      "source": [
        "# Creates a histogram for the capital losses \r\n",
        "plt.hist(income94['capital_loss'], bins = 25, color=\"red\") # Monetary losses are referred to as being \"in the red\"\r\n",
        "plt.title('Occurrences of Capital Losses in the Data')\r\n",
        "plt.xlabel('Capital Loss')\r\n",
        "plt.ylabel('Occurrences')\r\n",
        "print('') # This avoids the 'Occurrences' label from also being displayed as a text object, since I found that annoying."
      ],
      "execution_count": 54,
      "outputs": [
        {
          "output_type": "stream",
          "text": [
            "\n"
          ],
          "name": "stdout"
        },
        {
          "output_type": "display_data",
          "data": {
            "image/png": "[encoded data removed]",
            "text/plain": [
              "<Figure size 432x288 with 1 Axes>"
            ]
          },
          "metadata": {
            "tags": [],
            "needs_background": "light"
          }
        }
      ]
    },
    {
      "cell_type": "markdown",
      "metadata": {
        "id": "v_xpmzKIOGHE"
      },
      "source": [
        "###Summary of these Distributions: \r\n",
        "As we can see from the above two histograms, a vast majority of the observations (people) in the `income94` dataset which we are working with have no capital gains, and no capital losses.\r\n",
        "\r\n",
        "Note that these groups do not necessarily overlap entirely, but in both cases, a majority of the people have no changes in capital.\r\n",
        "\r\n",
        "In the initial data exploration above (glimpses at the values in each column), we saw that 29849 people had 0 capital gains, and 31042 people had 0 capital losses.\r\n",
        "\r\n",
        "Thus, it would be best to create new categorical variables which declare whether or not the person in question has any capital gains or losses."
      ]
    },
    {
      "cell_type": "code",
      "metadata": {
        "colab": {
          "base_uri": "https://localhost:8080/"
        },
        "id": "u3IaghiUsHix",
        "outputId": "5cab4794-7e59-4b7f-e57f-f7f621ee8a03"
      },
      "source": [
        "# Creates a helper function which can be used to determine whether a person has capital gains/losses or not. Since capital losses are registered\r\n",
        "# as positive numbers in the dataset, the person has gains/losses if and only if the value in the corresponding column is positive.\r\n",
        "def isPositive(value):\r\n",
        "  return value > 0\r\n",
        "\r\n",
        "# Creates two new variables in the dataframe which declare whether or not the person has any capital gains or losses.\r\n",
        "income94['has_capital_gains'] = isPositive(income94['capital_gain'])\r\n",
        "income94['has_capital_losses'] = isPositive(income94['capital_loss'])\r\n",
        "\r\n",
        "# Based on these four outputs, we can see that there are an equal amount of \"0\" entries in each of the columns as \"False\" values in the corresponding columns.\r\n",
        "print(income94['capital_gain'].value_counts())\r\n",
        "print(income94['has_capital_gains'].value_counts())\r\n",
        "print(income94['capital_loss'].value_counts())\r\n",
        "print(income94['has_capital_losses'].value_counts())"
      ],
      "execution_count": 59,
      "outputs": [
        {
          "output_type": "stream",
          "text": [
            "0        29849\n",
            "15024      347\n",
            "7688       284\n",
            "7298       246\n",
            "99999      159\n",
            "         ...  \n",
            "4931         1\n",
            "1455         1\n",
            "6097         1\n",
            "22040        1\n",
            "1111         1\n",
            "Name: capital_gain, Length: 119, dtype: int64\n",
            "False    29849\n",
            "True      2712\n",
            "Name: has_capital_gains, dtype: int64\n",
            "0       31042\n",
            "1902      202\n",
            "1977      168\n",
            "1887      159\n",
            "1848       51\n",
            "        ...  \n",
            "1411        1\n",
            "1539        1\n",
            "2472        1\n",
            "1944        1\n",
            "2201        1\n",
            "Name: capital_loss, Length: 92, dtype: int64\n",
            "False    31042\n",
            "True      1519\n",
            "Name: has_capital_losses, dtype: int64\n"
          ],
          "name": "stdout"
        }
      ]
    }
  ]
}