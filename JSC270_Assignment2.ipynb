{
  "nbformat": 4,
  "nbformat_minor": 0,
  "metadata": {
    "colab": {
      "name": "JSC270_Assignment2.ipynb",
      "provenance": [],
      "collapsed_sections": [],
      "toc_visible": true,
      "include_colab_link": true
    },
    "kernelspec": {
      "name": "python3",
      "display_name": "Python 3"
    }
  },
  "cells": [
    {
      "cell_type": "markdown",
      "metadata": {
        "id": "view-in-github",
        "colab_type": "text"
      },
      "source": [
        "<a href=\"https://colab.research.google.com/github/hotz1/JSC270_Assg2/blob/joey_branch/JSC270_Assignment2.ipynb\" target=\"_parent\"><img src=\"https://colab.research.google.com/assets/colab-badge.svg\" alt=\"Open In Colab\"/></a>"
      ]
    },
    {
      "cell_type": "markdown",
      "metadata": {
        "id": "Dx3JcBg8VZ-a"
      },
      "source": [
        "###Libraries you'll likely need"
      ]
    },
    {
      "cell_type": "code",
      "metadata": {
        "id": "3I79uCwE3Sq8",
        "colab": {
          "base_uri": "https://localhost:8080/"
        },
        "outputId": "cb602753-0bfb-4452-c929-9c994cf775fc"
      },
      "source": [
        "import pandas as pd\r\n",
        "import numpy as np\r\n",
        "import matplotlib.pyplot as plt\r\n",
        "import seaborn as sns\r\n",
        "from scipy import stats\r\n",
        "import statsmodels.api as sm\r\n",
        "import statsmodels.formula.api as smf"
      ],
      "execution_count": 1,
      "outputs": [
        {
          "output_type": "stream",
          "text": [
            "/usr/local/lib/python3.6/dist-packages/statsmodels/tools/_testing.py:19: FutureWarning: pandas.util.testing is deprecated. Use the functions in the public API at pandas.testing instead.\n",
            "  import pandas.util.testing as tm\n"
          ],
          "name": "stderr"
        }
      ]
    },
    {
      "cell_type": "markdown",
      "metadata": {
        "id": "9U0oB7HfVZ3g"
      },
      "source": [
        ""
      ]
    },
    {
      "cell_type": "markdown",
      "metadata": {
        "id": "X0oR7u9m-wO6"
      },
      "source": [
        "###Importing data"
      ]
    },
    {
      "cell_type": "code",
      "metadata": {
        "id": "f3jscp2H3Yqm",
        "colab": {
          "base_uri": "https://localhost:8080/"
        },
        "outputId": "fa1c7689-cf33-4da8-cb4f-a0cbc3280b37"
      },
      "source": [
        "income94 = pd.read_csv('https://archive.ics.uci.edu/ml/machine-learning-databases/adult/adult.data', header=None, sep=\",\")\r\n",
        "income94.columns = ['age','workclass', 'fnlwgt','education','education_num','marital_status','occupation',\r\n",
        "                    'relationship','race','sex','capital_gain','capital_loss','hours_per_week','native_country','gross_income_group']\r\n",
        "\r\n",
        "income94.shape"
      ],
      "execution_count": 2,
      "outputs": [
        {
          "output_type": "execute_result",
          "data": {
            "text/plain": [
              "(32561, 15)"
            ]
          },
          "metadata": {
            "tags": []
          },
          "execution_count": 2
        }
      ]
    },
    {
      "cell_type": "markdown",
      "metadata": {
        "id": "4rg8rtxHwDnB"
      },
      "source": [
        "Using the `.shape` function, we can see that the `income94` dataset is 32561x15, i.e. the dataset has 32561 rows and 15 columns. These 32561 rows represent individual people in the census, and each of the 15 columns represents an observation about that person."
      ]
    },
    {
      "cell_type": "markdown",
      "metadata": {
        "id": "CoRjnWX1xgKC"
      },
      "source": [
        "###Exploring the Data:"
      ]
    },
    {
      "cell_type": "code",
      "metadata": {
        "colab": {
          "base_uri": "https://localhost:8080/",
          "height": 903
        },
        "id": "GQ8HQ8oWxk8M",
        "outputId": "0a4a6dce-fd96-4e2f-eb96-6e1a15e35d9f"
      },
      "source": [
        "# This command is used to see the different types of data in the dataframe. We can see that of the 15 columns described above, 6 of them contain \r\n",
        "# numerical values (integer values) and the other 9 contain object values, which generally signify categorical data.\r\n",
        "\r\n",
        "# Looking at the .head() of the data above, we see that there are 6 columns (age, education_num, capital_gain, capital_loss, hours_per_week) which are \r\n",
        "# numerical, and the remaining 9 columns store categorical variables. This lined up with the information shown by this command.\r\n",
        "print(income94.info())\r\n",
        "print('\\n')\r\n",
        "income94.head(10)"
      ],
      "execution_count": 3,
      "outputs": [
        {
          "output_type": "stream",
          "text": [
            "<class 'pandas.core.frame.DataFrame'>\n",
            "RangeIndex: 32561 entries, 0 to 32560\n",
            "Data columns (total 15 columns):\n",
            " #   Column              Non-Null Count  Dtype \n",
            "---  ------              --------------  ----- \n",
            " 0   age                 32561 non-null  int64 \n",
            " 1   workclass           32561 non-null  object\n",
            " 2   fnlwgt              32561 non-null  int64 \n",
            " 3   education           32561 non-null  object\n",
            " 4   education_num       32561 non-null  int64 \n",
            " 5   marital_status      32561 non-null  object\n",
            " 6   occupation          32561 non-null  object\n",
            " 7   relationship        32561 non-null  object\n",
            " 8   race                32561 non-null  object\n",
            " 9   sex                 32561 non-null  object\n",
            " 10  capital_gain        32561 non-null  int64 \n",
            " 11  capital_loss        32561 non-null  int64 \n",
            " 12  hours_per_week      32561 non-null  int64 \n",
            " 13  native_country      32561 non-null  object\n",
            " 14  gross_income_group  32561 non-null  object\n",
            "dtypes: int64(6), object(9)\n",
            "memory usage: 3.7+ MB\n",
            "None\n",
            "\n",
            "\n"
          ],
          "name": "stdout"
        },
        {
          "output_type": "execute_result",
          "data": {
            "text/html": [
              "<div>\n",
              "<style scoped>\n",
              "    .dataframe tbody tr th:only-of-type {\n",
              "        vertical-align: middle;\n",
              "    }\n",
              "\n",
              "    .dataframe tbody tr th {\n",
              "        vertical-align: top;\n",
              "    }\n",
              "\n",
              "    .dataframe thead th {\n",
              "        text-align: right;\n",
              "    }\n",
              "</style>\n",
              "<table border=\"1\" class=\"dataframe\">\n",
              "  <thead>\n",
              "    <tr style=\"text-align: right;\">\n",
              "      <th></th>\n",
              "      <th>age</th>\n",
              "      <th>workclass</th>\n",
              "      <th>fnlwgt</th>\n",
              "      <th>education</th>\n",
              "      <th>education_num</th>\n",
              "      <th>marital_status</th>\n",
              "      <th>occupation</th>\n",
              "      <th>relationship</th>\n",
              "      <th>race</th>\n",
              "      <th>sex</th>\n",
              "      <th>capital_gain</th>\n",
              "      <th>capital_loss</th>\n",
              "      <th>hours_per_week</th>\n",
              "      <th>native_country</th>\n",
              "      <th>gross_income_group</th>\n",
              "    </tr>\n",
              "  </thead>\n",
              "  <tbody>\n",
              "    <tr>\n",
              "      <th>0</th>\n",
              "      <td>39</td>\n",
              "      <td>State-gov</td>\n",
              "      <td>77516</td>\n",
              "      <td>Bachelors</td>\n",
              "      <td>13</td>\n",
              "      <td>Never-married</td>\n",
              "      <td>Adm-clerical</td>\n",
              "      <td>Not-in-family</td>\n",
              "      <td>White</td>\n",
              "      <td>Male</td>\n",
              "      <td>2174</td>\n",
              "      <td>0</td>\n",
              "      <td>40</td>\n",
              "      <td>United-States</td>\n",
              "      <td>&lt;=50K</td>\n",
              "    </tr>\n",
              "    <tr>\n",
              "      <th>1</th>\n",
              "      <td>50</td>\n",
              "      <td>Self-emp-not-inc</td>\n",
              "      <td>83311</td>\n",
              "      <td>Bachelors</td>\n",
              "      <td>13</td>\n",
              "      <td>Married-civ-spouse</td>\n",
              "      <td>Exec-managerial</td>\n",
              "      <td>Husband</td>\n",
              "      <td>White</td>\n",
              "      <td>Male</td>\n",
              "      <td>0</td>\n",
              "      <td>0</td>\n",
              "      <td>13</td>\n",
              "      <td>United-States</td>\n",
              "      <td>&lt;=50K</td>\n",
              "    </tr>\n",
              "    <tr>\n",
              "      <th>2</th>\n",
              "      <td>38</td>\n",
              "      <td>Private</td>\n",
              "      <td>215646</td>\n",
              "      <td>HS-grad</td>\n",
              "      <td>9</td>\n",
              "      <td>Divorced</td>\n",
              "      <td>Handlers-cleaners</td>\n",
              "      <td>Not-in-family</td>\n",
              "      <td>White</td>\n",
              "      <td>Male</td>\n",
              "      <td>0</td>\n",
              "      <td>0</td>\n",
              "      <td>40</td>\n",
              "      <td>United-States</td>\n",
              "      <td>&lt;=50K</td>\n",
              "    </tr>\n",
              "    <tr>\n",
              "      <th>3</th>\n",
              "      <td>53</td>\n",
              "      <td>Private</td>\n",
              "      <td>234721</td>\n",
              "      <td>11th</td>\n",
              "      <td>7</td>\n",
              "      <td>Married-civ-spouse</td>\n",
              "      <td>Handlers-cleaners</td>\n",
              "      <td>Husband</td>\n",
              "      <td>Black</td>\n",
              "      <td>Male</td>\n",
              "      <td>0</td>\n",
              "      <td>0</td>\n",
              "      <td>40</td>\n",
              "      <td>United-States</td>\n",
              "      <td>&lt;=50K</td>\n",
              "    </tr>\n",
              "    <tr>\n",
              "      <th>4</th>\n",
              "      <td>28</td>\n",
              "      <td>Private</td>\n",
              "      <td>338409</td>\n",
              "      <td>Bachelors</td>\n",
              "      <td>13</td>\n",
              "      <td>Married-civ-spouse</td>\n",
              "      <td>Prof-specialty</td>\n",
              "      <td>Wife</td>\n",
              "      <td>Black</td>\n",
              "      <td>Female</td>\n",
              "      <td>0</td>\n",
              "      <td>0</td>\n",
              "      <td>40</td>\n",
              "      <td>Cuba</td>\n",
              "      <td>&lt;=50K</td>\n",
              "    </tr>\n",
              "    <tr>\n",
              "      <th>5</th>\n",
              "      <td>37</td>\n",
              "      <td>Private</td>\n",
              "      <td>284582</td>\n",
              "      <td>Masters</td>\n",
              "      <td>14</td>\n",
              "      <td>Married-civ-spouse</td>\n",
              "      <td>Exec-managerial</td>\n",
              "      <td>Wife</td>\n",
              "      <td>White</td>\n",
              "      <td>Female</td>\n",
              "      <td>0</td>\n",
              "      <td>0</td>\n",
              "      <td>40</td>\n",
              "      <td>United-States</td>\n",
              "      <td>&lt;=50K</td>\n",
              "    </tr>\n",
              "    <tr>\n",
              "      <th>6</th>\n",
              "      <td>49</td>\n",
              "      <td>Private</td>\n",
              "      <td>160187</td>\n",
              "      <td>9th</td>\n",
              "      <td>5</td>\n",
              "      <td>Married-spouse-absent</td>\n",
              "      <td>Other-service</td>\n",
              "      <td>Not-in-family</td>\n",
              "      <td>Black</td>\n",
              "      <td>Female</td>\n",
              "      <td>0</td>\n",
              "      <td>0</td>\n",
              "      <td>16</td>\n",
              "      <td>Jamaica</td>\n",
              "      <td>&lt;=50K</td>\n",
              "    </tr>\n",
              "    <tr>\n",
              "      <th>7</th>\n",
              "      <td>52</td>\n",
              "      <td>Self-emp-not-inc</td>\n",
              "      <td>209642</td>\n",
              "      <td>HS-grad</td>\n",
              "      <td>9</td>\n",
              "      <td>Married-civ-spouse</td>\n",
              "      <td>Exec-managerial</td>\n",
              "      <td>Husband</td>\n",
              "      <td>White</td>\n",
              "      <td>Male</td>\n",
              "      <td>0</td>\n",
              "      <td>0</td>\n",
              "      <td>45</td>\n",
              "      <td>United-States</td>\n",
              "      <td>&gt;50K</td>\n",
              "    </tr>\n",
              "    <tr>\n",
              "      <th>8</th>\n",
              "      <td>31</td>\n",
              "      <td>Private</td>\n",
              "      <td>45781</td>\n",
              "      <td>Masters</td>\n",
              "      <td>14</td>\n",
              "      <td>Never-married</td>\n",
              "      <td>Prof-specialty</td>\n",
              "      <td>Not-in-family</td>\n",
              "      <td>White</td>\n",
              "      <td>Female</td>\n",
              "      <td>14084</td>\n",
              "      <td>0</td>\n",
              "      <td>50</td>\n",
              "      <td>United-States</td>\n",
              "      <td>&gt;50K</td>\n",
              "    </tr>\n",
              "    <tr>\n",
              "      <th>9</th>\n",
              "      <td>42</td>\n",
              "      <td>Private</td>\n",
              "      <td>159449</td>\n",
              "      <td>Bachelors</td>\n",
              "      <td>13</td>\n",
              "      <td>Married-civ-spouse</td>\n",
              "      <td>Exec-managerial</td>\n",
              "      <td>Husband</td>\n",
              "      <td>White</td>\n",
              "      <td>Male</td>\n",
              "      <td>5178</td>\n",
              "      <td>0</td>\n",
              "      <td>40</td>\n",
              "      <td>United-States</td>\n",
              "      <td>&gt;50K</td>\n",
              "    </tr>\n",
              "  </tbody>\n",
              "</table>\n",
              "</div>"
            ],
            "text/plain": [
              "   age          workclass  ...  native_country gross_income_group\n",
              "0   39          State-gov  ...   United-States              <=50K\n",
              "1   50   Self-emp-not-inc  ...   United-States              <=50K\n",
              "2   38            Private  ...   United-States              <=50K\n",
              "3   53            Private  ...   United-States              <=50K\n",
              "4   28            Private  ...            Cuba              <=50K\n",
              "5   37            Private  ...   United-States              <=50K\n",
              "6   49            Private  ...         Jamaica              <=50K\n",
              "7   52   Self-emp-not-inc  ...   United-States               >50K\n",
              "8   31            Private  ...   United-States               >50K\n",
              "9   42            Private  ...   United-States               >50K\n",
              "\n",
              "[10 rows x 15 columns]"
            ]
          },
          "metadata": {
            "tags": []
          },
          "execution_count": 3
        }
      ]
    },
    {
      "cell_type": "markdown",
      "metadata": {
        "id": "_1sthuvE7F3F"
      },
      "source": [
        "Using the `.info()` function allows us to see a broad overview of the different types of data in our dataframe. As we can see, the \"non-null count\" for each column is 32561 entries, which is the total number of rows in our dataset, as we saw by calling the `shape` function earlier. \r\n",
        "\r\n",
        "However, this does not necessarily mean that the entire dataset is usable, as missing values may ne recorded under a different non-null entry.\r\n",
        "\r\n",
        "The `.head()` function allows us to get a better look at our data, and see the different types of data which are in each of the columns, but it still is only showing a tiny proportion of our dataset."
      ]
    },
    {
      "cell_type": "markdown",
      "metadata": {
        "id": "wXUdDQ3y0fP4"
      },
      "source": [
        "### Looking for missing observations\r\n",
        "Now that we have done some initial exploring of the data, we would like to see if there are any missing observations which could potentially cause errors in our analysis."
      ]
    },
    {
      "cell_type": "markdown",
      "metadata": {
        "id": "vudJou5dRH3U"
      },
      "source": [
        "As we saw in an earlier block of executed code, there are 32561 non-null values in each row. \r\n",
        "Since there are 32561 non-null values in each row, we do not have any blank spaces where there should be data; nor do we have any `NaN`'s in our dataset where there should be an actual number."
      ]
    },
    {
      "cell_type": "code",
      "metadata": {
        "colab": {
          "base_uri": "https://localhost:8080/"
        },
        "id": "ruu6sBho0W1D",
        "outputId": "739bfbef-4748-4795-aa6b-d5f429aadd9f"
      },
      "source": [
        "# The following loop is used to ensure that the columns are as we expected them to be, and that they contain the right information.\r\n",
        "# This loop also tries to present the information in a somewhat readable format by spacing out the different observations.\r\n",
        "\r\n",
        "for col in income94.columns:\r\n",
        "  print(\"Observation Column: \" + col)\r\n",
        "  print(income94[col].value_counts())\r\n",
        "  print('\\n')"
      ],
      "execution_count": 4,
      "outputs": [
        {
          "output_type": "stream",
          "text": [
            "Observation Column: age\n",
            "36    898\n",
            "31    888\n",
            "34    886\n",
            "23    877\n",
            "35    876\n",
            "     ... \n",
            "83      6\n",
            "85      3\n",
            "88      3\n",
            "87      1\n",
            "86      1\n",
            "Name: age, Length: 73, dtype: int64\n",
            "\n",
            "\n",
            "Observation Column: workclass\n",
            " Private             22696\n",
            " Self-emp-not-inc     2541\n",
            " Local-gov            2093\n",
            " ?                    1836\n",
            " State-gov            1298\n",
            " Self-emp-inc         1116\n",
            " Federal-gov           960\n",
            " Without-pay            14\n",
            " Never-worked            7\n",
            "Name: workclass, dtype: int64\n",
            "\n",
            "\n",
            "Observation Column: fnlwgt\n",
            "164190    13\n",
            "203488    13\n",
            "123011    13\n",
            "113364    12\n",
            "121124    12\n",
            "          ..\n",
            "284211     1\n",
            "312881     1\n",
            "177711     1\n",
            "179758     1\n",
            "229376     1\n",
            "Name: fnlwgt, Length: 21648, dtype: int64\n",
            "\n",
            "\n",
            "Observation Column: education\n",
            " HS-grad         10501\n",
            " Some-college     7291\n",
            " Bachelors        5355\n",
            " Masters          1723\n",
            " Assoc-voc        1382\n",
            " 11th             1175\n",
            " Assoc-acdm       1067\n",
            " 10th              933\n",
            " 7th-8th           646\n",
            " Prof-school       576\n",
            " 9th               514\n",
            " 12th              433\n",
            " Doctorate         413\n",
            " 5th-6th           333\n",
            " 1st-4th           168\n",
            " Preschool          51\n",
            "Name: education, dtype: int64\n",
            "\n",
            "\n",
            "Observation Column: education_num\n",
            "9     10501\n",
            "10     7291\n",
            "13     5355\n",
            "14     1723\n",
            "11     1382\n",
            "7      1175\n",
            "12     1067\n",
            "6       933\n",
            "4       646\n",
            "15      576\n",
            "5       514\n",
            "8       433\n",
            "16      413\n",
            "3       333\n",
            "2       168\n",
            "1        51\n",
            "Name: education_num, dtype: int64\n",
            "\n",
            "\n",
            "Observation Column: marital_status\n",
            " Married-civ-spouse       14976\n",
            " Never-married            10683\n",
            " Divorced                  4443\n",
            " Separated                 1025\n",
            " Widowed                    993\n",
            " Married-spouse-absent      418\n",
            " Married-AF-spouse           23\n",
            "Name: marital_status, dtype: int64\n",
            "\n",
            "\n",
            "Observation Column: occupation\n",
            " Prof-specialty       4140\n",
            " Craft-repair         4099\n",
            " Exec-managerial      4066\n",
            " Adm-clerical         3770\n",
            " Sales                3650\n",
            " Other-service        3295\n",
            " Machine-op-inspct    2002\n",
            " ?                    1843\n",
            " Transport-moving     1597\n",
            " Handlers-cleaners    1370\n",
            " Farming-fishing       994\n",
            " Tech-support          928\n",
            " Protective-serv       649\n",
            " Priv-house-serv       149\n",
            " Armed-Forces            9\n",
            "Name: occupation, dtype: int64\n",
            "\n",
            "\n",
            "Observation Column: relationship\n",
            " Husband           13193\n",
            " Not-in-family      8305\n",
            " Own-child          5068\n",
            " Unmarried          3446\n",
            " Wife               1568\n",
            " Other-relative      981\n",
            "Name: relationship, dtype: int64\n",
            "\n",
            "\n",
            "Observation Column: race\n",
            " White                 27816\n",
            " Black                  3124\n",
            " Asian-Pac-Islander     1039\n",
            " Amer-Indian-Eskimo      311\n",
            " Other                   271\n",
            "Name: race, dtype: int64\n",
            "\n",
            "\n",
            "Observation Column: sex\n",
            " Male      21790\n",
            " Female    10771\n",
            "Name: sex, dtype: int64\n",
            "\n",
            "\n",
            "Observation Column: capital_gain\n",
            "0        29849\n",
            "15024      347\n",
            "7688       284\n",
            "7298       246\n",
            "99999      159\n",
            "         ...  \n",
            "4931         1\n",
            "1455         1\n",
            "6097         1\n",
            "22040        1\n",
            "1111         1\n",
            "Name: capital_gain, Length: 119, dtype: int64\n",
            "\n",
            "\n",
            "Observation Column: capital_loss\n",
            "0       31042\n",
            "1902      202\n",
            "1977      168\n",
            "1887      159\n",
            "1848       51\n",
            "        ...  \n",
            "1411        1\n",
            "1539        1\n",
            "2472        1\n",
            "1944        1\n",
            "2201        1\n",
            "Name: capital_loss, Length: 92, dtype: int64\n",
            "\n",
            "\n",
            "Observation Column: hours_per_week\n",
            "40    15217\n",
            "50     2819\n",
            "45     1824\n",
            "60     1475\n",
            "35     1297\n",
            "      ...  \n",
            "92        1\n",
            "94        1\n",
            "87        1\n",
            "74        1\n",
            "82        1\n",
            "Name: hours_per_week, Length: 94, dtype: int64\n",
            "\n",
            "\n",
            "Observation Column: native_country\n",
            " United-States                 29170\n",
            " Mexico                          643\n",
            " ?                               583\n",
            " Philippines                     198\n",
            " Germany                         137\n",
            " Canada                          121\n",
            " Puerto-Rico                     114\n",
            " El-Salvador                     106\n",
            " India                           100\n",
            " Cuba                             95\n",
            " England                          90\n",
            " Jamaica                          81\n",
            " South                            80\n",
            " China                            75\n",
            " Italy                            73\n",
            " Dominican-Republic               70\n",
            " Vietnam                          67\n",
            " Guatemala                        64\n",
            " Japan                            62\n",
            " Poland                           60\n",
            " Columbia                         59\n",
            " Taiwan                           51\n",
            " Haiti                            44\n",
            " Iran                             43\n",
            " Portugal                         37\n",
            " Nicaragua                        34\n",
            " Peru                             31\n",
            " France                           29\n",
            " Greece                           29\n",
            " Ecuador                          28\n",
            " Ireland                          24\n",
            " Hong                             20\n",
            " Cambodia                         19\n",
            " Trinadad&Tobago                  19\n",
            " Laos                             18\n",
            " Thailand                         18\n",
            " Yugoslavia                       16\n",
            " Outlying-US(Guam-USVI-etc)       14\n",
            " Hungary                          13\n",
            " Honduras                         13\n",
            " Scotland                         12\n",
            " Holand-Netherlands                1\n",
            "Name: native_country, dtype: int64\n",
            "\n",
            "\n",
            "Observation Column: gross_income_group\n",
            " <=50K    24720\n",
            " >50K      7841\n",
            "Name: gross_income_group, dtype: int64\n",
            "\n",
            "\n"
          ],
          "name": "stdout"
        }
      ]
    },
    {
      "cell_type": "markdown",
      "metadata": {
        "id": "yW-bYXbJ3uW2"
      },
      "source": [
        "###Fixing Missing Observations:\r\n",
        "We see that there are some missing observations in some of the columns which store categorical data. These missing observations are denoted with `?` characters in the dataframe.\r\n",
        "\r\n",
        "In particular, there are 1836 missing observations in the `workclass` column, 1843 missing observations in the `occupation` column, and 583 missing observations in the `native_country` column."
      ]
    },
    {
      "cell_type": "code",
      "metadata": {
        "id": "6vPRp_PhSM7O",
        "colab": {
          "base_uri": "https://localhost:8080/"
        },
        "outputId": "ff5c8fb2-5184-47e7-ecf5-961d9c14f901"
      },
      "source": [
        "# This block of code replaces the question marks that mark a lack of an answer with a \"NaN\" character, which marks that there is no relevant data present in this observation.\r\n",
        "income94 = income94.replace(' ?', np.NaN)\r\n",
        "# This is a check to ensure that all of the ? characters have been properly replaced with null characters. \r\n",
        "# These results match our expected amount of missing observations from above, so we're good to go! \r\n",
        "income94.isnull().sum()"
      ],
      "execution_count": 5,
      "outputs": [
        {
          "output_type": "execute_result",
          "data": {
            "text/plain": [
              "age                      0\n",
              "workclass             1836\n",
              "fnlwgt                   0\n",
              "education                0\n",
              "education_num            0\n",
              "marital_status           0\n",
              "occupation            1843\n",
              "relationship             0\n",
              "race                     0\n",
              "sex                      0\n",
              "capital_gain             0\n",
              "capital_loss             0\n",
              "hours_per_week           0\n",
              "native_country         583\n",
              "gross_income_group       0\n",
              "dtype: int64"
            ]
          },
          "metadata": {
            "tags": []
          },
          "execution_count": 5
        }
      ]
    },
    {
      "cell_type": "markdown",
      "metadata": {
        "id": "rD3QuEcZFhE8"
      },
      "source": [
        "###Distributions of Capital Gains and Losses:\r\n",
        "\r\n",
        "In the following lines of code, we will create histograms which show the capital gains and losses of the people in this census."
      ]
    },
    {
      "cell_type": "code",
      "metadata": {
        "colab": {
          "base_uri": "https://localhost:8080/",
          "height": 312
        },
        "id": "agr7glh89e9m",
        "outputId": "2e24208c-74da-4a19-8d0e-5cc7fdd4df01"
      },
      "source": [
        "# Creates a histogram for the capital gains \r\n",
        "plt.hist(income94['capital_gain'], bins = 25, color=\"black\") # Monetary gains are referred to as being \"in the black\"\r\n",
        "plt.title('Occurrences of Capital Gains in the Data')\r\n",
        "plt.xlabel('Capital Gains')\r\n",
        "plt.ylabel('Occurrences')\r\n",
        "print('') # This avoids the 'Occurrences' label from also being displayed as a text object, since I found that annoying."
      ],
      "execution_count": 6,
      "outputs": [
        {
          "output_type": "stream",
          "text": [
            "\n"
          ],
          "name": "stdout"
        },
        {
          "output_type": "display_data",
          "data": {
            "image/png": "[encoded data removed]",
            "text/plain": [
              "<Figure size 432x288 with 1 Axes>"
            ]
          },
          "metadata": {
            "tags": [],
            "needs_background": "light"
          }
        }
      ]
    },
    {
      "cell_type": "code",
      "metadata": {
        "colab": {
          "base_uri": "https://localhost:8080/",
          "height": 312
        },
        "id": "uapvilXQGRjI",
        "outputId": "c66a7eac-d0dd-4a9e-af81-5568586547d5"
      },
      "source": [
        "# Creates a histogram for the capital losses \r\n",
        "plt.hist(income94['capital_loss'], bins = 25, color=\"red\") # Monetary losses are referred to as being \"in the red\"\r\n",
        "plt.title('Occurrences of Capital Losses in the Data')\r\n",
        "plt.xlabel('Capital Loss')\r\n",
        "plt.ylabel('Occurrences')\r\n",
        "print('') # This avoids the 'Occurrences' label from also being displayed as a text object, since I found that annoying."
      ],
      "execution_count": 7,
      "outputs": [
        {
          "output_type": "stream",
          "text": [
            "\n"
          ],
          "name": "stdout"
        },
        {
          "output_type": "display_data",
          "data": {
            "image/png": "[encoded data removed]",
            "text/plain": [
              "<Figure size 432x288 with 1 Axes>"
            ]
          },
          "metadata": {
            "tags": [],
            "needs_background": "light"
          }
        }
      ]
    },
    {
      "cell_type": "markdown",
      "metadata": {
        "id": "v_xpmzKIOGHE"
      },
      "source": [
        "###Summary of these Distributions: \r\n",
        "As we can see from the above two histograms, a vast majority of the observations (people) in the `income94` dataset which we are working with have no capital gains, and no capital losses.\r\n",
        "\r\n",
        "Note that these groups do not necessarily overlap entirely, but in both cases, a majority of the people have no changes in capital.\r\n",
        "\r\n",
        "In the initial data exploration above (glimpses at the values in each column), we saw that 29849 people had 0 capital gains, and 31042 people had 0 capital losses.\r\n",
        "\r\n",
        "Thus, it would be best to create new categorical variables which declare whether or not the person in question has any capital gains or losses."
      ]
    },
    {
      "cell_type": "code",
      "metadata": {
        "colab": {
          "base_uri": "https://localhost:8080/"
        },
        "id": "u3IaghiUsHix",
        "outputId": "9b7dfbd6-02bb-4e71-b75d-666748418d6c"
      },
      "source": [
        "# Creates a helper function which can be used to determine whether a person has capital gains/losses or not. Since capital losses are registered\r\n",
        "# as positive numbers in the dataset, the person has gains/losses if and only if the value in the corresponding column is positive.\r\n",
        "def isPositive(value):\r\n",
        "  return value > 0\r\n",
        "\r\n",
        "# Creates two new variables in the dataframe which declare whether or not the person has any capital gains or losses.\r\n",
        "income94['has_capital_gains'] = isPositive(income94['capital_gain'])\r\n",
        "income94['has_capital_losses'] = isPositive(income94['capital_loss'])\r\n",
        "\r\n",
        "# Based on these four outputs, we can see that there are an equal amount of \"0\" entries in each of the columns as \"False\" values in the corresponding columns.\r\n",
        "print(income94['capital_gain'].value_counts())\r\n",
        "print(\"\\n\")\r\n",
        "print(income94['has_capital_gains'].value_counts())\r\n",
        "print(\"\\n\")\r\n",
        "print(income94['capital_loss'].value_counts())\r\n",
        "print(\"\\n\")\r\n",
        "print(income94['has_capital_losses'].value_counts())"
      ],
      "execution_count": 8,
      "outputs": [
        {
          "output_type": "stream",
          "text": [
            "0        29849\n",
            "15024      347\n",
            "7688       284\n",
            "7298       246\n",
            "99999      159\n",
            "         ...  \n",
            "4931         1\n",
            "1455         1\n",
            "6097         1\n",
            "22040        1\n",
            "1111         1\n",
            "Name: capital_gain, Length: 119, dtype: int64\n",
            "\n",
            "\n",
            "False    29849\n",
            "True      2712\n",
            "Name: has_capital_gains, dtype: int64\n",
            "\n",
            "\n",
            "0       31042\n",
            "1902      202\n",
            "1977      168\n",
            "1887      159\n",
            "1848       51\n",
            "        ...  \n",
            "1411        1\n",
            "1539        1\n",
            "2472        1\n",
            "1944        1\n",
            "2201        1\n",
            "Name: capital_loss, Length: 92, dtype: int64\n",
            "\n",
            "\n",
            "False    31042\n",
            "True      1519\n",
            "Name: has_capital_losses, dtype: int64\n"
          ],
          "name": "stdout"
        }
      ]
    },
    {
      "cell_type": "markdown",
      "metadata": {
        "id": "BxrIRcyfc6zg"
      },
      "source": [
        "Since the amount of false entries are equal to the amount of 0 entries in the corresponding columns for capital gains and losses, we can see that there newly-declared variables match our expectation. "
      ]
    },
    {
      "cell_type": "markdown",
      "metadata": {
        "id": "VxLcJtHKeMLQ"
      },
      "source": [
        "###The Weight Parameter in the Data\r\n"
      ]
    },
    {
      "cell_type": "markdown",
      "metadata": {
        "id": "-ZubCNZKdMhd"
      },
      "source": [
        "\r\n",
        "####Initial Spread of Weights\r\n",
        "In order to better understand the `fnlwgt` variable in the dataset, it would help to create a histogram of the data so that we may see the spread of this variable over our dataset."
      ]
    },
    {
      "cell_type": "code",
      "metadata": {
        "colab": {
          "base_uri": "https://localhost:8080/",
          "height": 312
        },
        "id": "CnpDCyzPeLKr",
        "outputId": "93a03f58-f131-4a08-b12e-cfd083ea790e"
      },
      "source": [
        "# Creates a histogram for the final weights of the different rows of the data \r\n",
        "plt.hist(income94['fnlwgt'], bins = 50)\r\n",
        "plt.title('Distribution of Weights in the Dataset')\r\n",
        "plt.xlabel('Final Weight')\r\n",
        "plt.ylabel('Occurrences')\r\n",
        "print(\"\")"
      ],
      "execution_count": 9,
      "outputs": [
        {
          "output_type": "stream",
          "text": [
            "\n"
          ],
          "name": "stdout"
        },
        {
          "output_type": "display_data",
          "data": {
            "image/png": "[encoded data removed]",
            "text/plain": [
              "<Figure size 432x288 with 1 Axes>"
            ]
          },
          "metadata": {
            "tags": [],
            "needs_background": "light"
          }
        }
      ]
    },
    {
      "cell_type": "markdown",
      "metadata": {
        "id": "twONUpn9lXE9"
      },
      "source": [
        "Clearly, the weights are not symmetrically distributed. Note that the scale of the x-axis is in millions, so a majority of the data is actually in the range from 0 to 800000, as opposed to being in the range from 0 to 0.8."
      ]
    },
    {
      "cell_type": "code",
      "metadata": {
        "colab": {
          "base_uri": "https://localhost:8080/",
          "height": 350
        },
        "id": "cv3DXxn6qKiE",
        "outputId": "9b67714b-6994-4979-c1ce-2653a64b8f4f"
      },
      "source": [
        "income94['fnlwgt'].hist(by=income94['sex'], bins = 25)"
      ],
      "execution_count": 10,
      "outputs": [
        {
          "output_type": "execute_result",
          "data": {
            "text/plain": [
              "array([<matplotlib.axes._subplots.AxesSubplot object at 0x7f87cad8b400>,\n",
              "       <matplotlib.axes._subplots.AxesSubplot object at 0x7f87cad3b6a0>],\n",
              "      dtype=object)"
            ]
          },
          "metadata": {
            "tags": []
          },
          "execution_count": 10
        },
        {
          "output_type": "display_data",
          "data": {
            "image/png": "[encoded data removed]",
            "text/plain": [
              "<Figure size 432x288 with 2 Axes>"
            ]
          },
          "metadata": {
            "tags": [],
            "needs_background": "light"
          }
        }
      ]
    },
    {
      "cell_type": "markdown",
      "metadata": {
        "id": "6wIZRkoQ2bMi"
      },
      "source": [
        "As we can see above, the distribution of the weight parameters is quite similar (in shape) regardless of sex. Note that there are significantly more males than females in the dataset, as the range of occurrences for males significantly exceeds the amount of occurrences for  exceeds the range for females, and the distributions are similarly shaped."
      ]
    },
    {
      "cell_type": "markdown",
      "metadata": {
        "id": "4Dz9yn_s3SQm"
      },
      "source": [
        "####Outliers in the Weights\r\n",
        "\r\n",
        "Next, we should look to see if there are any outliers in our data. From the distributions plotted above, we can see that a majority of the weights are approximately in the range from 0 to 300000, and a small amount of them are in the range above 300000."
      ]
    },
    {
      "cell_type": "code",
      "metadata": {
        "colab": {
          "base_uri": "https://localhost:8080/",
          "height": 295
        },
        "id": "M7JNCKNHmfXR",
        "outputId": "72a69b41-86bb-44c0-848f-50f49f0f750a"
      },
      "source": [
        "sns.boxplot(x = 'fnlwgt', data = income94)\r\n",
        "plt.xlabel('Final Weight')\r\n",
        "plt.title('Box and Whiskers Plot of Final Weights')\r\n",
        "plt.show()"
      ],
      "execution_count": 11,
      "outputs": [
        {
          "output_type": "display_data",
          "data": {
            "image/png": "[encoded data removed]",
            "text/plain": [
              "<Figure size 432x288 with 1 Axes>"
            ]
          },
          "metadata": {
            "tags": [],
            "needs_background": "light"
          }
        }
      ]
    },
    {
      "cell_type": "markdown",
      "metadata": {
        "id": "RtoBo4TRDlGa"
      },
      "source": [
        "From this box and whisker plot, we can see that all of the outlier weights are large, as opposed to having the outliers distributed on 'both sides' of the data.\r\n",
        "\r\n",
        "This box-and-whisker plot uses the 'standard' definition of an outlier, which is 1.5 inter-quartile ranges (IQR) away from the first/third quartile.\r\n",
        "\r\n",
        "We can easily find the observations in our data which contain outliers. However, we will not remove the outliers from the dataset, even though all of them are distributed to the same side of the data.\r\n",
        "\r\n",
        "Removing the weights which are outliers is not a good idea for multiple reasons, including:\r\n",
        "- The weight parameter is meant to represent the overall population of a person matching those characteristics, so a set of characteristics whose `fnlwgt` is an outlier would in fact be more common than those with lower values of `fnlwgt`.\r\n",
        "- The formula for the 'weight' of a person is not clearly outlined, so we do not know which observations will be removed, or why these particular observations are outliers in the data.\r\n",
        "- People with similar demographic characteristics will have similar weights, so we may be removing smaller or marginalized groups entirely from the data, because a higher value of `fnlwgt` could correspond to a particular trait such as older people or people of a certain race. If we removed all such outliers, we may be excluding groups entirely from our data which could heavily affect our analyses."
      ]
    },
    {
      "cell_type": "code",
      "metadata": {
        "id": "guVwHdHfDkrx",
        "colab": {
          "base_uri": "https://localhost:8080/"
        },
        "outputId": "36773129-7719-4fc6-fc03-b7f7096c44ca"
      },
      "source": [
        "# This function is the get_outliers function which we used in the Week 2 Lab for this course.\r\n",
        "# It uses the 1.5IQR definition of an outlier for a numerical variable to determine the outliers of the data.\r\n",
        "def get_outliers(num_var, df):\r\n",
        "  '''Get outliers based on whiskers from \r\n",
        "  boxplot.\r\n",
        "  Input - num_var: A string representing the v\r\n",
        "  variable of interest\r\n",
        "  df: The pd df containing the numerical data\r\n",
        "  Output: A pd df containing the outlier obs\r\n",
        "  '''\r\n",
        "  # Capture 1st and 3rd quartiles\r\n",
        "  firstquart = df[num_var].quantile(q=0.25)\r\n",
        "  thirdquart = df[num_var].quantile(q=0.75)\r\n",
        "  # Generate IQR\r\n",
        "  iqr = thirdquart - firstquart\r\n",
        "  # Generate Whiskers\r\n",
        "  lower_whisker = firstquart - 1.5*iqr\r\n",
        "  upper_whisker = thirdquart + 1.5*iqr\r\n",
        "  # Gen outlier df\r\n",
        "  outliers = df[(df[num_var] > upper_whisker) | (df[num_var] < lower_whisker)]\r\n",
        "  print('The variable {} has {} outliers'.format(num_var, len(outliers)))\r\n",
        "  return outliers\r\n",
        "\r\n",
        "fnlwgt_outliers = get_outliers('fnlwgt', income94)\r\n",
        "print(\"Distribution of race among the entire dataset:\")\r\n",
        "print(fnlwgt_outliers.value_counts('race'))\r\n",
        "print(\"\\nDistribution of race amount the outliers (based on weight):\")\r\n",
        "print(income94.value_counts('race'))"
      ],
      "execution_count": 12,
      "outputs": [
        {
          "output_type": "stream",
          "text": [
            "The variable fnlwgt has 992 outliers\n",
            "Distribution of race among the entire dataset:\n",
            "race\n",
            " White                 772\n",
            " Black                 211\n",
            " Other                   4\n",
            " Asian-Pac-Islander      4\n",
            " Amer-Indian-Eskimo      1\n",
            "dtype: int64\n",
            "\n",
            "Distribution of race amount the outliers (based on weight):\n",
            "race\n",
            " White                 27816\n",
            " Black                  3124\n",
            " Asian-Pac-Islander     1039\n",
            " Amer-Indian-Eskimo      311\n",
            " Other                   271\n",
            "dtype: int64\n"
          ],
          "name": "stdout"
        }
      ]
    },
    {
      "cell_type": "markdown",
      "metadata": {
        "id": "Y2de1C2QJ-rY"
      },
      "source": [
        "As we can see in the above tables, approximately 21.3% of the people who are marked as outliers based on weight identified as Black, compared to only 9.6% of the dataset as a whole. This reinforces our idea to not remove these outliers from the data, as it would skew our data towards non-Black people by removing many Black people from the data."
      ]
    },
    {
      "cell_type": "markdown",
      "metadata": {
        "id": "ieJbA9fEj5FF"
      },
      "source": [
        "### Correlations in the Data:\r\n",
        "\r\n",
        "Now that we have finished doing our initial setup of the dataset, we can begin to do the actual analysis.\r\n",
        "\r\n",
        "First, we would like to observe the correlations between the variables `age`, `education_num`, and `hours_per_week`. We can use a correlation matrix to easily see all of these values at once."
      ]
    },
    {
      "cell_type": "code",
      "metadata": {
        "colab": {
          "base_uri": "https://localhost:8080/",
          "height": 142
        },
        "id": "rpwgmSWyNOwM",
        "outputId": "6266c50a-1397-4a69-f6c1-ce317c94c4a5"
      },
      "source": [
        "# Creates a new dataframe consisting of only the columns listed above\r\n",
        "correlation_data = income94[['age', 'education_num', 'hours_per_week']]\r\n",
        "correlation_data.corr()"
      ],
      "execution_count": 13,
      "outputs": [
        {
          "output_type": "execute_result",
          "data": {
            "text/html": [
              "<div>\n",
              "<style scoped>\n",
              "    .dataframe tbody tr th:only-of-type {\n",
              "        vertical-align: middle;\n",
              "    }\n",
              "\n",
              "    .dataframe tbody tr th {\n",
              "        vertical-align: top;\n",
              "    }\n",
              "\n",
              "    .dataframe thead th {\n",
              "        text-align: right;\n",
              "    }\n",
              "</style>\n",
              "<table border=\"1\" class=\"dataframe\">\n",
              "  <thead>\n",
              "    <tr style=\"text-align: right;\">\n",
              "      <th></th>\n",
              "      <th>age</th>\n",
              "      <th>education_num</th>\n",
              "      <th>hours_per_week</th>\n",
              "    </tr>\n",
              "  </thead>\n",
              "  <tbody>\n",
              "    <tr>\n",
              "      <th>age</th>\n",
              "      <td>1.000000</td>\n",
              "      <td>0.036527</td>\n",
              "      <td>0.068756</td>\n",
              "    </tr>\n",
              "    <tr>\n",
              "      <th>education_num</th>\n",
              "      <td>0.036527</td>\n",
              "      <td>1.000000</td>\n",
              "      <td>0.148123</td>\n",
              "    </tr>\n",
              "    <tr>\n",
              "      <th>hours_per_week</th>\n",
              "      <td>0.068756</td>\n",
              "      <td>0.148123</td>\n",
              "      <td>1.000000</td>\n",
              "    </tr>\n",
              "  </tbody>\n",
              "</table>\n",
              "</div>"
            ],
            "text/plain": [
              "                     age  education_num  hours_per_week\n",
              "age             1.000000       0.036527        0.068756\n",
              "education_num   0.036527       1.000000        0.148123\n",
              "hours_per_week  0.068756       0.148123        1.000000"
            ]
          },
          "metadata": {
            "tags": []
          },
          "execution_count": 13
        }
      ]
    },
    {
      "cell_type": "markdown",
      "metadata": {
        "id": "PBiuYQq5OJtP"
      },
      "source": [
        "###Statistical Testing of Correlation\r\n",
        "\r\n",
        "Based on the correlation matrix above, we see that these three variables all have very slight positive correlations. Since we are setting our threshold of correlation to 0.1, we will look to see if there is any correlation between `education_num` and `hours_per_week`, and disregard the other 2 pairings.\r\n",
        "\r\n",
        " Note that by the definition of correlation, all (non-constant) variables must have a perfect correlation coefficient with themselves, so the diagonal entries are not significant.\r\n",
        "\r\n",
        "Now, we can to create a regression of these two variables, and see if there is any correlation between them. \r\n",
        "\r\n",
        "We will do this through the principles of hypothesis testing; we will assume that there is no (legitimate) correlation between these variables and that the 0.148 correlation coefficient is due to chance alone, and use the t-statistic to determine whether this hypothesis is reasonable."
      ]
    },
    {
      "cell_type": "code",
      "metadata": {
        "colab": {
          "base_uri": "https://localhost:8080/",
          "height": 720
        },
        "id": "VI-19u5yQKDi",
        "outputId": "43cdb8dd-ea3e-46de-8daa-f396c42336de"
      },
      "source": [
        "hours_education_regression = smf.ols('hours_per_week ~ education_num', data = income94).fit()\r\n",
        "print(hours_education_regression.summary())\r\n",
        "hours_education_plot = sns.regplot(x=\"education_num\", y=\"hours_per_week\", data=income94, scatter_kws={\"color\": \"green\"}, line_kws={\"color\": \"red\"})\r\n",
        "hours_education_plot.set_xlabel(\"Education Number\")\r\n",
        "hours_education_plot.set_ylabel(\"Hours Worked Per Week\")\r\n",
        "hours_education_plot.set_title(\"Education vs. Hours Worked Per Week\")\r\n",
        "plt.show()"
      ],
      "execution_count": 14,
      "outputs": [
        {
          "output_type": "stream",
          "text": [
            "                            OLS Regression Results                            \n",
            "==============================================================================\n",
            "Dep. Variable:         hours_per_week   R-squared:                       0.022\n",
            "Model:                            OLS   Adj. R-squared:                  0.022\n",
            "Method:                 Least Squares   F-statistic:                     730.4\n",
            "Date:                Mon, 08 Feb 2021   Prob (F-statistic):          4.24e-159\n",
            "Time:                        05:21:42   Log-Likelihood:            -1.2768e+05\n",
            "No. Observations:               32561   AIC:                         2.554e+05\n",
            "Df Residuals:                   32559   BIC:                         2.554e+05\n",
            "Df Model:                           1                                         \n",
            "Covariance Type:            nonrobust                                         \n",
            "=================================================================================\n",
            "                    coef    std err          t      P>|t|      [0.025      0.975]\n",
            "---------------------------------------------------------------------------------\n",
            "Intercept        33.2711      0.274    121.575      0.000      32.735      33.808\n",
            "education_num     0.7109      0.026     27.026      0.000       0.659       0.762\n",
            "==============================================================================\n",
            "Omnibus:                     2649.457   Durbin-Watson:                   2.017\n",
            "Prob(Omnibus):                  0.000   Jarque-Bera (JB):            13119.139\n",
            "Skew:                           0.238   Prob(JB):                         0.00\n",
            "Kurtosis:                       6.073   Cond. No.                         42.4\n",
            "==============================================================================\n",
            "\n",
            "Warnings:\n",
            "[1] Standard Errors assume that the covariance matrix of the errors is correctly specified.\n"
          ],
          "name": "stdout"
        },
        {
          "output_type": "display_data",
          "data": {
            "image/png": "[encoded data removed]",
            "text/plain": [
              "<Figure size 432x288 with 1 Axes>"
            ]
          },
          "metadata": {
            "tags": [],
            "needs_background": "light"
          }
        }
      ]
    },
    {
      "cell_type": "markdown",
      "metadata": {
        "id": "96AK9ywbjwWC"
      },
      "source": [
        "As we can see from the visualization created, there is a slight positive trend when we graph `education_num` and `hours_per_week`, which we would expect with a correlation coefficient of approximately 0.148.\r\n",
        "\r\n",
        "From the regression summary printed above the graph, we see that the equation of the red line which was computer for the regression is:\r\n",
        "```\r\n",
        "hours_per_week = 33.2711+0.7109*education_num\r\n",
        "```\r\n",
        "For both the intercept and the coefficient corresponding to `education_num`,we see that the values in the `P>|t|` columns are identically 0.\r\n",
        "\r\n",
        "Although these values cannot be precisely 0, this indicates that there is a very minute chance of this pattern being merely due to chance or external factors, and thus, we can reject the null hypothesis that these variables are not correlated.\r\n"
      ]
    },
    {
      "cell_type": "markdown",
      "metadata": {
        "id": "3IP7EuDqlnpi"
      },
      "source": [
        "### Controlling for Sex\r\n",
        "\r\n",
        "In the dataframe, there are many categorical variables which we can explore. One such variable is the reported sex of the people in the census data. We may be interested in seeing if there are different patterns in the correlation between certain factors when we control for the sex of the people.\r\n",
        "\r\n",
        "We will be looking at the correlation between age and education, separated by sex. One might expect that as age increases, people are more likely to be educated, since they will have had more time to complete their education if they so choose (e.g. very few 20-year olds have finished an undergraduate degree). This expectation would yield some form of positive correlation between these variables, as one would expect people who have had more formal education to be older."
      ]
    },
    {
      "cell_type": "code",
      "metadata": {
        "colab": {
          "base_uri": "https://localhost:8080/"
        },
        "id": "9ORQ4yiEaRlR",
        "outputId": "e9e0e9af-7e39-4e05-e5dd-ed1d7a5f013b"
      },
      "source": [
        "# These two lines of code create two new dataframes which are restricted to either just the males or females in the overall data which we have.\r\n",
        "# Using these two dataframes, we can find correlations of the variables which account for sex, and see if there are noticeable differences in the correlations of \r\n",
        "# certain variables based on the sexes of the people in the data.\r\n",
        "\r\n",
        "# Additionally, since we are only interested at looking at the correlations between certain variables, we will remove some of the variables from these new dataframes to avoid clutter.\r\n",
        "\r\n",
        "income94_males = income94[income94['sex'] == ' Male'][['age', 'education_num', 'hours_per_week']]\r\n",
        "income94_females = income94[income94['sex'] != ' Male'][['age', 'education_num', 'hours_per_week']]\r\n",
        "\r\n",
        "print(\"Correlation of age, education, and hours worked per week for males:\")\r\n",
        "print(income94_males.corr())\r\n",
        "print(\"\\nCorrelation of age, education, and hours worked per week for females:\")\r\n",
        "print(income94_females.corr())"
      ],
      "execution_count": 15,
      "outputs": [
        {
          "output_type": "stream",
          "text": [
            "Correlation of age, education, and hours worked per week for males:\n",
            "                     age  education_num  hours_per_week\n",
            "age             1.000000       0.060486        0.034124\n",
            "education_num   0.060486       1.000000        0.136782\n",
            "hours_per_week  0.034124       0.136782        1.000000\n",
            "\n",
            "Correlation of age, education, and hours worked per week for females:\n",
            "                     age  education_num  hours_per_week\n",
            "age             1.000000      -0.017899        0.081257\n",
            "education_num  -0.017899       1.000000        0.178749\n",
            "hours_per_week  0.081257       0.178749        1.000000\n"
          ],
          "name": "stdout"
        }
      ]
    },
    {
      "cell_type": "markdown",
      "metadata": {
        "id": "NUiaVtnmvFkL"
      },
      "source": [
        "From the above tables, we can see that there is a slight positive correlation between education and age for males, and there is actually a very slight negative correlation between age and education for females in the data.\r\n",
        "\r\n",
        "A possible explanation for these correlations could be societal trends; females tended to not seek higher education as often as males did in the past, since there was sometimes an expectation of them to become stay-at-home mothers, as opposed to working. This would cause the older generation of females in the dataset to have not sought further education, which could yield a negative correlation between age and education for females.\r\n",
        "\r\n",
        "However, males would not be affected by these societal norms, which is why the data for males more closely represents the intuition of education and age having some positive correlation."
      ]
    },
    {
      "cell_type": "markdown",
      "metadata": {
        "id": "hQx64tVUwwRJ"
      },
      "source": [
        "### Calculation of Weighted and Unweighted Variances\r\n",
        "Lastly, we would like to find the covariance and variance of the variables `education_num` and `hours_per_week` in the dataset. We want to find both the weighted and unweighted quantities for these measures."
      ]
    },
    {
      "cell_type": "code",
      "metadata": {
        "colab": {
          "base_uri": "https://localhost:8080/"
        },
        "id": "keO05A4p1qnj",
        "outputId": "ba52c127-6913-4789-c540-c18d684c4524"
      },
      "source": [
        "unweighted_variances = np.cov(income94['hours_per_week'], income94['education_num'])\r\n",
        "print(\"Unweighted variance of education_num: {}\".format(unweighted_variances[0][0]))\r\n",
        "print(\"Unweighted mean of education_num: {}\".format(np.average(income94['education_num'])))\r\n",
        "print(\"Unweighted variance of hours_per_week: {}\".format(unweighted_variances[1][1]))\r\n",
        "print(\"Unweighted mean of hours_per_week: {}\".format(np.average(income94['hours_per_week'])))\r\n",
        "print(\"Unweighted covariance of education_num and hours_per_week: {}\".format(unweighted_variances[1][0]))\r\n",
        "print(\"\\n\")\r\n",
        "\r\n",
        "weighted_variances = np.cov(income94['hours_per_week'], income94['education_num'], aweights=income94['fnlwgt'])\r\n",
        "print(\"Weighted variance of education_num: {}\".format(weighted_variances[0][0]))\r\n",
        "print(\"Weighted mean of education_num: {}\".format(np.average(income94['education_num'], weights=income94['fnlwgt'])))\r\n",
        "print(\"Weighted variance of hours_per_week: {}\".format(weighted_variances[1][1]))\r\n",
        "print(\"Weighted mean of hours_per_week: {}\".format(np.average(income94['hours_per_week'], weights=income94['fnlwgt'])))\r\n",
        "print(\"Weighted covariance of education_num and hours_per_week: {}\".format(weighted_variances[1][0]))"
      ],
      "execution_count": 16,
      "outputs": [
        {
          "output_type": "stream",
          "text": [
            "Unweighted variance of education_num: 152.45899505045412\n",
            "Unweighted mean of education_num: 10.0806793403151\n",
            "Unweighted variance of hours_per_week: 6.618889907032914\n",
            "Unweighted mean of hours_per_week: 40.437455852092995\n",
            "Unweighted covariance of education_num and hours_per_week: 4.705337944611544\n",
            "\n",
            "\n",
            "Weighted variance of education_num: 146.33651738876418\n",
            "Weighted mean of education_num: 10.018874787555482\n",
            "Weighted variance of hours_per_week: 6.828921139768938\n",
            "Weighted mean of hours_per_week: 40.308570376806905\n",
            "Weighted covariance of education_num and hours_per_week: 4.634074756568678\n"
          ],
          "name": "stdout"
        }
      ]
    },
    {
      "cell_type": "markdown",
      "metadata": {
        "id": "1uov4gKU8S2W"
      },
      "source": [
        "We can see that once we take into account the weights in the dataset, there is a slight decrease in the variance and mean of `education_num`, and a slight increase in the variance of `hours_per_week`, but a decrease in the weighted mean of `hours_per_week`.\r\n",
        "\r\n",
        "Since `education_num` has a slight reduction in variance both variance and mean once we take the weights into account, it would appear as if the unweighted data has a slight overrepresentation of people who are highly educated compared to the 'true average'. A reduction in variance (and hence reduced standard deviation) implies that we likely have a couple too many outliers which are skewing the values in the `education_num` data upwards, and using weights helps to counteract this.\r\n",
        "\r\n",
        "Because `hours_per_week` has a slight decrease in its mean once we take into account the weights, it seems that our data would skew towards people whose work hours are in excess of the true average. However, the weighted variance is actually larger than the unweighted variance, which means that our data is more spread out when weighted than unweighted, which means that there is likely an underrepresentation of people whose work hours are both well above the mean and well below the mean."
      ]
    },
    {
      "cell_type": "markdown",
      "metadata": {
        "id": "oQT0dizxHbeI"
      },
      "source": [
        "### Using Linear Regressions!\r\n",
        "We can create some linear regressions to create lines of best fit for variables in our data.\r\n",
        "\r\n",
        "First, let us look at the amount of hours worked per week relative to the sex of the person, to see if there is a notable difference in hours per week for the sexes.\r\n"
      ]
    },
    {
      "cell_type": "code",
      "metadata": {
        "colab": {
          "base_uri": "https://localhost:8080/"
        },
        "id": "7Y0-u1SzYdBv",
        "outputId": "b6c03229-4aa7-4e5c-a587-b2d21d734b0b"
      },
      "source": [
        "# Creates a regression of hours worked per week relative to sex.\r\n",
        "reg2 = smf.ols('hours_per_week ~ sex', data = income94).fit()\r\n",
        "print(reg2.summary())"
      ],
      "execution_count": 17,
      "outputs": [
        {
          "output_type": "stream",
          "text": [
            "                            OLS Regression Results                            \n",
            "==============================================================================\n",
            "Dep. Variable:         hours_per_week   R-squared:                       0.053\n",
            "Model:                            OLS   Adj. R-squared:                  0.053\n",
            "Method:                 Least Squares   F-statistic:                     1807.\n",
            "Date:                Mon, 08 Feb 2021   Prob (F-statistic):               0.00\n",
            "Time:                        05:21:45   Log-Likelihood:            -1.2716e+05\n",
            "No. Observations:               32561   AIC:                         2.543e+05\n",
            "Df Residuals:                   32559   BIC:                         2.543e+05\n",
            "Df Model:                           1                                         \n",
            "Covariance Type:            nonrobust                                         \n",
            "================================================================================\n",
            "                   coef    std err          t      P>|t|      [0.025      0.975]\n",
            "--------------------------------------------------------------------------------\n",
            "Intercept       36.4104      0.116    314.412      0.000      36.183      36.637\n",
            "sex[T. Male]     6.0177      0.142     42.510      0.000       5.740       6.295\n",
            "==============================================================================\n",
            "Omnibus:                     2649.390   Durbin-Watson:                   2.019\n",
            "Prob(Omnibus):                  0.000   Jarque-Bera (JB):            13090.867\n",
            "Skew:                           0.239   Prob(JB):                         0.00\n",
            "Kurtosis:                       6.069   Cond. No.                         3.24\n",
            "==============================================================================\n",
            "\n",
            "Warnings:\n",
            "[1] Standard Errors assume that the covariance matrix of the errors is correctly specified.\n"
          ],
          "name": "stdout"
        }
      ]
    },
    {
      "cell_type": "markdown",
      "metadata": {
        "id": "Byr-B1IeTTDs"
      },
      "source": [
        "In the statistics for the above linear regression, we see that the sex of the person involved is the dependent variable, and the hours worked per week is the independent variable.\r\n",
        "\r\n",
        "Based on the coefficients which were calculated above, we see that the approximate formula for the line of best fit for these data is \r\n",
        "```\r\n",
        "hours_per_week = 36.4104 + 6.0177*sex\r\n",
        "```\r\n",
        "where `sex` is a variable which is equal to 0 is the person is female, and 1 if the person is male.\r\n",
        "\r\n",
        "Since there is a positive coefficient for 'being male', we can thus say that there is a net increase in the amount of hours worked per week by males as opposed to by females, and thus, we can conclude that males tend to work more hours than females.\r\n",
        "\r\n"
      ]
    },
    {
      "cell_type": "code",
      "metadata": {
        "colab": {
          "base_uri": "https://localhost:8080/"
        },
        "id": "CI7YiymKdgC9",
        "outputId": "242b8e36-20e7-402e-990e-8191cb6940c1"
      },
      "source": [
        "print(\"Average amount of hours worked by females: {}\".format(np.average(income94_females['hours_per_week'])))\r\n",
        "print(\"Average amount of hours worked by males: {}\".format(np.average(income94_males['hours_per_week'])))"
      ],
      "execution_count": 18,
      "outputs": [
        {
          "output_type": "stream",
          "text": [
            "Average amount of hours worked by females: 36.410361154953115\n",
            "Average amount of hours worked by males: 42.42808627810923\n"
          ],
          "name": "stdout"
        }
      ]
    },
    {
      "cell_type": "markdown",
      "metadata": {
        "id": "98wIyaegerTr"
      },
      "source": [
        "As we can see from the above code output, the average amount of hours worked by females in this dataset is 36.41 hours per week, and the average amount of hours worked by men is 42.43 hours per week, which matches our conclusions drawn from the regression table above.\r\n",
        "\r\n",
        "In fact, we see that the 'intercept' of this line is precisely the average amount of hours worked by women, and that the coefficient for men is precisely the difference between the means.\r\n",
        "\r\n",
        "This, of course, is because we essentially only have 2 data points (one per sex), and we can always create a line between two points.\r\n",
        "\r\n",
        "Since our dataset contains a lot of information, we can do better than merely computing the equation of a line which best fits two data points. We will introduce some controlled variables, such as the level of education of the people in the sample."
      ]
    },
    {
      "cell_type": "code",
      "metadata": {
        "colab": {
          "base_uri": "https://localhost:8080/"
        },
        "id": "O_ARzpyKoQ0k",
        "outputId": "f5f3582c-0bbb-4d25-acdf-70306b0e4a89"
      },
      "source": [
        "reg3 = smf.ols('hours_per_week ~ sex + education_num', data = income94).fit()\r\n",
        "print(reg3.summary())"
      ],
      "execution_count": 19,
      "outputs": [
        {
          "output_type": "stream",
          "text": [
            "                            OLS Regression Results                            \n",
            "==============================================================================\n",
            "Dep. Variable:         hours_per_week   R-squared:                       0.074\n",
            "Model:                            OLS   Adj. R-squared:                  0.074\n",
            "Method:                 Least Squares   F-statistic:                     1295.\n",
            "Date:                Mon, 08 Feb 2021   Prob (F-statistic):               0.00\n",
            "Time:                        05:21:45   Log-Likelihood:            -1.2680e+05\n",
            "No. Observations:               32561   AIC:                         2.536e+05\n",
            "Df Residuals:                   32558   BIC:                         2.536e+05\n",
            "Df Model:                           2                                         \n",
            "Covariance Type:            nonrobust                                         \n",
            "=================================================================================\n",
            "                    coef    std err          t      P>|t|      [0.025      0.975]\n",
            "---------------------------------------------------------------------------------\n",
            "Intercept        29.4106      0.281    104.556      0.000      28.859      29.962\n",
            "sex[T. Male]      5.9709      0.140     42.653      0.000       5.697       6.245\n",
            "education_num     0.6975      0.026     27.244      0.000       0.647       0.748\n",
            "==============================================================================\n",
            "Omnibus:                     2783.881   Durbin-Watson:                   2.018\n",
            "Prob(Omnibus):                  0.000   Jarque-Bera (JB):            14492.060\n",
            "Skew:                           0.247   Prob(JB):                         0.00\n",
            "Kurtosis:                       6.231   Cond. No.                         45.6\n",
            "==============================================================================\n",
            "\n",
            "Warnings:\n",
            "[1] Standard Errors assume that the covariance matrix of the errors is correctly specified.\n"
          ],
          "name": "stdout"
        }
      ]
    },
    {
      "cell_type": "markdown",
      "metadata": {
        "id": "GE9-IeWt_vWd"
      },
      "source": [
        "Based on the above regression table, we can see that the value of `education_num` does affect the amount of hours worked per week, on top of the sex of the person.\r\n",
        "\r\n",
        "Based on the probabilities given in the t-table, both variables (`sex` and `education_num`) are correlated with `hours_per_week` when using any notable level of significance, since the probability of these variables being uncorrelated (i.e. the true slope is equal to 0) is less than 0.005 (since it was rounded down to 0.000)\r\n",
        "\r\n",
        "From this regression table, we can derive the formula of the best fit which takes into account these variables, which is \r\n",
        "```\r\n",
        "hours_per_week = 29.4106+5.9709*sex+0.6975*education_num\r\n",
        "```\r\n",
        "where `sex` = 0 for females, and 1 for males, as mentioned earlier.\r\n",
        "\r\n",
        "Note that `education_num` is not necessarily linear. For example, the difference between `education_num == 6` and `education_num == 7` is the difference between 10th and 11th, which is typically only one year of education, whereas the difference between `education_num == 13` and `education_num == 14` is the difference between a Bachelor's degree and a Master's degree, which is often a 2-year program.\r\n",
        "\r\n",
        "Although `education_num` is positively correlated with `hours_per_week`, it may be better to instead look at the amount of time which the person spent in formal education in general, instead of only this ordinal number, since the breakpoints between these values do not represent even amounts of time.\r\n",
        "\r\n",
        "Next, we will include a third variable, which is the gross income group (above or below $50,000 USD per year) as a variable which can help predict the value of `hours_per_week`."
      ]
    },
    {
      "cell_type": "code",
      "metadata": {
        "colab": {
          "base_uri": "https://localhost:8080/"
        },
        "id": "lxZx76VS_6Ei",
        "outputId": "c7ff86db-316f-437d-905d-abf1e14669fe"
      },
      "source": [
        "reg4 = smf.ols('hours_per_week ~ gross_income_group + sex + education_num', data = income94).fit()\r\n",
        "print(reg4.summary())"
      ],
      "execution_count": 20,
      "outputs": [
        {
          "output_type": "stream",
          "text": [
            "                            OLS Regression Results                            \n",
            "==============================================================================\n",
            "Dep. Variable:         hours_per_week   R-squared:                       0.094\n",
            "Model:                            OLS   Adj. R-squared:                  0.094\n",
            "Method:                 Least Squares   F-statistic:                     1130.\n",
            "Date:                Mon, 08 Feb 2021   Prob (F-statistic):               0.00\n",
            "Time:                        05:21:46   Log-Likelihood:            -1.2643e+05\n",
            "No. Observations:               32561   AIC:                         2.529e+05\n",
            "Df Residuals:                   32557   BIC:                         2.529e+05\n",
            "Df Model:                           3                                         \n",
            "Covariance Type:            nonrobust                                         \n",
            "===============================================================================================\n",
            "                                  coef    std err          t      P>|t|      [0.025      0.975]\n",
            "-----------------------------------------------------------------------------------------------\n",
            "Intercept                      31.4218      0.288    109.184      0.000      30.858      31.986\n",
            "gross_income_group[T. >50K]     4.5175      0.166     27.229      0.000       4.192       4.843\n",
            "sex[T. Male]                    5.1010      0.142     35.907      0.000       4.823       5.379\n",
            "education_num                   0.4478      0.027     16.632      0.000       0.395       0.501\n",
            "==============================================================================\n",
            "Omnibus:                     2984.190   Durbin-Watson:                   2.015\n",
            "Prob(Omnibus):                  0.000   Jarque-Bera (JB):            15467.160\n",
            "Skew:                           0.296   Prob(JB):                         0.00\n",
            "Kurtosis:                       6.324   Cond. No.                         48.1\n",
            "==============================================================================\n",
            "\n",
            "Warnings:\n",
            "[1] Standard Errors assume that the covariance matrix of the errors is correctly specified.\n"
          ],
          "name": "stdout"
        }
      ]
    },
    {
      "cell_type": "markdown",
      "metadata": {
        "id": "QSSarc42Q1Xb"
      },
      "source": [
        "Based on the above regression table, we can see that the value of `gross_income_group` does affect the amount of hours worked per week, on top of the sex of the person.\r\n",
        "\r\n",
        "Based on the probabilities given in the t-table, the three variables (`sex`, `gross_income_group` and `education_num`) are all likely to be correlated with `hours_per_week` when using any notable level of significance, since the probability of the 'true slope' of the coefficients for these variables being 0 is very small.\r\n",
        "\r\n",
        "From this regression table, we can derive the formula of the best fit which takes into account these variables, which is \r\n",
        "```\r\n",
        "hours_per_week = 31.4218+5.1010*sex+0.4478*education_num+4.5175*gross_income_group\r\n",
        "```\r\n",
        "where `sex` = 0 for females, and 1 for males, as mentioned earlier, and `gross_income_group` = 0 for people who made up to \\$50,000, and 1 for people who made greater than \\$50,000."
      ]
    },
    {
      "cell_type": "markdown",
      "metadata": {
        "id": "MeIPBmo7XKx9"
      },
      "source": [
        "### Choosing Models\r\n",
        "\r\n",
        "In the previous section, we created three linear regression models for the variable `hours_per_week` in terms of the variables `sex`, `gross_income_group`, and `education_num`.\r\n",
        "\r\n",
        "We would like to decide upon some criteria to help us decide which of the three models would be the best models. In my opinion, I would personally choose the model with all three variables as potential predictors.\r\n",
        "\r\n",
        "The models with 1, 2, and 3 variables had R-squared values of 0.053, 0.074, and 0.094 respectively. As we can see, an increase in the number of variables increases the amount of variation which our model is able to explain. Since we are sing more input data, this is to be expected, and we may be concerned with overfitting our model, and overcomplicating it.\r\n",
        "\r\n",
        "Note that of the three independent variables listed above, two of them (`sex` and `gross_income_group`) are binary variables, so the model is not made significantly more complex, as we only need to add constants to our predicted value if a certain condition is met, as opposed to having to multiply and add.\r\n",
        "\r\n",
        "This keeps the 3-variable model relatively simple, as we can essentially think of it as 4 different parallel lines, one for each possible combination of `sex` and `gross_income_group`, and we know that simple linear regressions are easy to work with.\r\n",
        "\r\n",
        "Overfitting the data may be a concern, but due to the overall low r-squared value, we should not worry too much about the prospect of overfitting our model, since a large amount of the variance in `hours_per_week` is still not explained, even by these 3 variables.\r\n",
        "\r\n",
        "Another concern may be that there is some correlation between these variables which may confound the data and cause a bit of a feedback loop, such as the fact that males had a higher correlation with `education_num` than females did by age. Although this potentially may cause problems, the change in the coefficients of the models can help to prevent this, and we still notice significant increases in the R-squared value of these regressions when including more variables.\r\n",
        "\r\n",
        "Although it may be problematic at times and it less simple to work with than the single-variable model, I believe that of the three models created above using linear regressions, the 3-variable model is the best to use, due to its higher R-squared value."
      ]
    },
    {
      "cell_type": "markdown",
      "metadata": {
        "id": "PiE35yxlbKqH"
      },
      "source": [
        "### Model Fitting\r\n",
        "\r\n",
        "Suppose that we wanted to create a different model for `hours_per_week` using linear regression. One way which we could do this process is through model fitting.\r\n",
        "\r\n",
        "In particular, we could start with a model which takes in no inputs, and returns an estimate of `hours_per_week`, i.e. a constant function.\r\n",
        "\r\n",
        "From there, we could try and create a model which uses 1 variable, where each variable is a choice of one of the other variables in our dataframe, so that we can test all of the possible variables as predicotrs for `hours_per_week`. Once we have created a univariate model for each variable, we can select whichever variable minimizes the RSS of the model, and use that as our initial variable.\r\n",
        "\r\n",
        "Once we have selected an initial variable for our model, we can try and create a stronger multilinear model by testing out the remaining variables as possible predictors for our data, alonside the first variable.\r\n",
        "\r\n",
        "In theory, we can continue this process until all of our variables are exhausted. However, we would clearly be overfitting the data by that point, since that would essentially just be a lookup table which gives us the value of `hours_per_week` corresponding to the other entries.\r\n",
        "\r\n",
        "We should create a stopping point after which we will not use any more variables in our data, to avoid overfitting and overcomplication. \r\n",
        "\r\n",
        "One possible threshold could be requiring a certain ratio of R-squared values between the model with n+1 variables and the model with n variables, such as a rule that says that we will only add a new variable if the R-squared value is at least 1.2x the previous R-squared value. Note that this process does create an upper bound for the amount of variables, since the R-squared value of any model is bounded above by 1. \r\n",
        "\r\n",
        "This model fitting procedure could help us create a model for our data by ensuring that we have chosen the best combination of variables given the amount of variables which we want to select as potential predictors, while also ensuring that we do not overfit or overcomplicate the model."
      ]
    }
  ]
}